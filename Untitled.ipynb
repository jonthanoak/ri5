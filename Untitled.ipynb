{
 "cells": [
  {
   "cell_type": "code",
   "execution_count": 1,
   "id": "37019c8b",
   "metadata": {},
   "outputs": [],
   "source": [
    "import pandas as pd\n",
    "from sklearn.feature_extraction.text import TfidfVectorizer\n",
    "from sklearn.metrics.pairwise import cosine_similarity"
   ]
  },
  {
   "cell_type": "code",
   "execution_count": 2,
   "id": "c7ecaa14",
   "metadata": {},
   "outputs": [],
   "source": [
    "df = pd.read_csv('imdrf.csv')"
   ]
  },
  {
   "cell_type": "code",
   "execution_count": 3,
   "id": "570d162c",
   "metadata": {},
   "outputs": [
    {
     "data": {
      "text/html": [
       "<div>\n",
       "<style scoped>\n",
       "    .dataframe tbody tr th:only-of-type {\n",
       "        vertical-align: middle;\n",
       "    }\n",
       "\n",
       "    .dataframe tbody tr th {\n",
       "        vertical-align: top;\n",
       "    }\n",
       "\n",
       "    .dataframe thead th {\n",
       "        text-align: right;\n",
       "    }\n",
       "</style>\n",
       "<table border=\"1\" class=\"dataframe\">\n",
       "  <thead>\n",
       "    <tr style=\"text-align: right;\">\n",
       "      <th></th>\n",
       "      <th>code</th>\n",
       "      <th>term</th>\n",
       "      <th>definition</th>\n",
       "      <th>non-imdrf code/term</th>\n",
       "      <th>status</th>\n",
       "      <th>status description</th>\n",
       "      <th>codehierarchy</th>\n",
       "      <th>non-imdrf code</th>\n",
       "      <th>primary category</th>\n",
       "      <th>secondary category</th>\n",
       "    </tr>\n",
       "  </thead>\n",
       "  <tbody>\n",
       "    <tr>\n",
       "      <th>0</th>\n",
       "      <td>F01</td>\n",
       "      <td>Change in Therapeutic Response</td>\n",
       "      <td>Change in response to treatment or cure of a d...</td>\n",
       "      <td>NaN</td>\n",
       "      <td>NaN</td>\n",
       "      <td>NaN</td>\n",
       "      <td>F01</td>\n",
       "      <td>NaN</td>\n",
       "      <td>NaN</td>\n",
       "      <td>NaN</td>\n",
       "    </tr>\n",
       "    <tr>\n",
       "      <th>1</th>\n",
       "      <td>F0101</td>\n",
       "      <td>Therapeutic Response Decreased</td>\n",
       "      <td>A reduction in the desirable and beneficial ef...</td>\n",
       "      <td>NaN</td>\n",
       "      <td>NaN</td>\n",
       "      <td>NaN</td>\n",
       "      <td>F01|F0101</td>\n",
       "      <td>NaN</td>\n",
       "      <td>NaN</td>\n",
       "      <td>NaN</td>\n",
       "    </tr>\n",
       "    <tr>\n",
       "      <th>2</th>\n",
       "      <td>F0102</td>\n",
       "      <td>Therapeutic Response Increased</td>\n",
       "      <td>An increase in the desirable and beneficial ef...</td>\n",
       "      <td>NaN</td>\n",
       "      <td>NaN</td>\n",
       "      <td>NaN</td>\n",
       "      <td>F01|F0102</td>\n",
       "      <td>NaN</td>\n",
       "      <td>NaN</td>\n",
       "      <td>NaN</td>\n",
       "    </tr>\n",
       "    <tr>\n",
       "      <th>3</th>\n",
       "      <td>F0103</td>\n",
       "      <td>Unexpected Therapeutic Effects</td>\n",
       "      <td>Unanticipated desirable and beneficial effects...</td>\n",
       "      <td>NaN</td>\n",
       "      <td>NaN</td>\n",
       "      <td>NaN</td>\n",
       "      <td>F01|F0103</td>\n",
       "      <td>NaN</td>\n",
       "      <td>NaN</td>\n",
       "      <td>NaN</td>\n",
       "    </tr>\n",
       "    <tr>\n",
       "      <th>4</th>\n",
       "      <td>F02</td>\n",
       "      <td>Death</td>\n",
       "      <td>The cessation of life.</td>\n",
       "      <td>NaN</td>\n",
       "      <td>NaN</td>\n",
       "      <td>NaN</td>\n",
       "      <td>F02</td>\n",
       "      <td>NaN</td>\n",
       "      <td>NaN</td>\n",
       "      <td>NaN</td>\n",
       "    </tr>\n",
       "  </tbody>\n",
       "</table>\n",
       "</div>"
      ],
      "text/plain": [
       "    code                            term  \\\n",
       "0    F01  Change in Therapeutic Response   \n",
       "1  F0101  Therapeutic Response Decreased   \n",
       "2  F0102  Therapeutic Response Increased   \n",
       "3  F0103  Unexpected Therapeutic Effects   \n",
       "4    F02                           Death   \n",
       "\n",
       "                                          definition  non-imdrf code/term  \\\n",
       "0  Change in response to treatment or cure of a d...                  NaN   \n",
       "1  A reduction in the desirable and beneficial ef...                  NaN   \n",
       "2  An increase in the desirable and beneficial ef...                  NaN   \n",
       "3  Unanticipated desirable and beneficial effects...                  NaN   \n",
       "4                             The cessation of life.                  NaN   \n",
       "\n",
       "  status status description codehierarchy non-imdrf code primary category  \\\n",
       "0    NaN                NaN           F01            NaN              NaN   \n",
       "1    NaN                NaN     F01|F0101            NaN              NaN   \n",
       "2    NaN                NaN     F01|F0102            NaN              NaN   \n",
       "3    NaN                NaN     F01|F0103            NaN              NaN   \n",
       "4    NaN                NaN           F02            NaN              NaN   \n",
       "\n",
       "  secondary category  \n",
       "0                NaN  \n",
       "1                NaN  \n",
       "2                NaN  \n",
       "3                NaN  \n",
       "4                NaN  "
      ]
     },
     "execution_count": 3,
     "metadata": {},
     "output_type": "execute_result"
    }
   ],
   "source": [
    "df.head()"
   ]
  },
  {
   "cell_type": "code",
   "execution_count": 4,
   "id": "d34faed5",
   "metadata": {},
   "outputs": [],
   "source": [
    "user_input = 'bleeding'\n"
   ]
  },
  {
   "cell_type": "code",
   "execution_count": 5,
   "id": "4130a434",
   "metadata": {},
   "outputs": [],
   "source": [
    "# Create a TfidfVectorizer to transform the text data\n",
    "vectorizer = TfidfVectorizer()\n",
    "X = vectorizer.fit_transform(df['term'])\n",
    "\n",
    "# Transform the user input into a vector\n",
    "user_vector = vectorizer.transform([user_input])\n",
    "\n",
    "# Compute the cosine similarity between the user vector and all the text vectors\n",
    "similarity_scores = cosine_similarity(X, user_vector)\n"
   ]
  },
  {
   "cell_type": "code",
   "execution_count": 6,
   "id": "ce997f56",
   "metadata": {},
   "outputs": [
    {
     "name": "stdout",
     "output_type": "stream",
     "text": [
      "Term: abdominal\n",
      "Row: Intermenstrual Bleeding\n",
      "Score: 0.6736089335682713\n",
      "\n",
      "Term: abnormal\n",
      "Row: Genital Bleeding\n",
      "Score: 0.6736089335682713\n",
      "\n",
      "Term: aborted\n",
      "Row: Hemorrhage/Bleeding\n",
      "Score: 0.7483795166399424\n",
      "\n"
     ]
    },
    {
     "name": "stderr",
     "output_type": "stream",
     "text": [
      "C:\\Users\\JonathanOak\\anaconda3\\lib\\site-packages\\sklearn\\utils\\deprecation.py:87: FutureWarning: Function get_feature_names is deprecated; get_feature_names is deprecated in 1.0 and will be removed in 1.2. Please use get_feature_names_out instead.\n",
      "  warnings.warn(msg, category=FutureWarning)\n"
     ]
    },
    {
     "data": {
      "text/plain": [
       "array([1444, 1443, 1160], dtype=int64)"
      ]
     },
     "execution_count": 6,
     "metadata": {},
     "output_type": "execute_result"
    }
   ],
   "source": [
    "# Get the indices of the top 3 scores\n",
    "top_indices = similarity_scores.argsort(axis=0)[-3:].flatten()\n",
    "\n",
    "# Get the top 3 terms, rows, and scores\n",
    "top_terms = vectorizer.get_feature_names()\n",
    "top_rows = df.iloc[top_indices]['term']\n",
    "top_scores = similarity_scores[top_indices].flatten()"
   ]
  },
  {
   "cell_type": "code",
   "execution_count": 9,
   "id": "61c55400",
   "metadata": {},
   "outputs": [],
   "source": [
    "disp = pd.DataFrame(\n",
    "   columns=('IMDRF Code', 'IMDRF Term', 'Score'))"
   ]
  },
  {
   "cell_type": "code",
   "execution_count": 11,
   "id": "7fbad29b",
   "metadata": {},
   "outputs": [],
   "source": [
    "top_scores_percent = (top_scores * 100).round(2)"
   ]
  },
  {
   "cell_type": "code",
   "execution_count": 12,
   "id": "f1d750d0",
   "metadata": {},
   "outputs": [],
   "source": [
    "top_scores_percent = (top_scores * 100).round(2)\n",
    "top_scores_percent_str = [str(i)+'%' for i in top_scores_percent]\n",
    "top_scores_percent_str.reverse()\n",
    "codes = [df.at[i, 'code'] for i in top_indices]\n",
    "codes.reverse()\n",
    "terms = [df.at[i, 'term'] for i in top_indices]\n",
    "terms.reverse()\n",
    "disp['IMDRF Code'] = codes\n",
    "disp['IMDRF Term'] = terms\n",
    "disp['Score'] = top_scores_percent_str"
   ]
  },
  {
   "cell_type": "code",
   "execution_count": 13,
   "id": "a6e15435",
   "metadata": {},
   "outputs": [
    {
     "data": {
      "text/plain": [
       "['67.36%', '67.36%', '74.84%']"
      ]
     },
     "execution_count": 13,
     "metadata": {},
     "output_type": "execute_result"
    }
   ],
   "source": [
    "top_scores_percent_str"
   ]
  },
  {
   "cell_type": "code",
   "execution_count": 14,
   "id": "55c94f08",
   "metadata": {},
   "outputs": [],
   "source": [
    "top_scores_percent_str.reverse()"
   ]
  },
  {
   "cell_type": "code",
   "execution_count": 15,
   "id": "5affc89e",
   "metadata": {},
   "outputs": [
    {
     "data": {
      "text/plain": [
       "['74.84%', '67.36%', '67.36%']"
      ]
     },
     "execution_count": 15,
     "metadata": {},
     "output_type": "execute_result"
    }
   ],
   "source": [
    "top_scores_percent_str"
   ]
  },
  {
   "cell_type": "code",
   "execution_count": 16,
   "id": "cca7f725",
   "metadata": {},
   "outputs": [],
   "source": [
    "codes = [df.at[i, 'code'] for i in top_indices]"
   ]
  },
  {
   "cell_type": "code",
   "execution_count": 17,
   "id": "419f2e96",
   "metadata": {},
   "outputs": [],
   "source": [
    "codes.reverse()"
   ]
  },
  {
   "cell_type": "code",
   "execution_count": 18,
   "id": "aa3cd073",
   "metadata": {},
   "outputs": [
    {
     "data": {
      "text/plain": [
       "['E0506', 'E1407', 'E140701']"
      ]
     },
     "execution_count": 18,
     "metadata": {},
     "output_type": "execute_result"
    }
   ],
   "source": [
    "codes"
   ]
  },
  {
   "cell_type": "code",
   "execution_count": 19,
   "id": "b08211d6",
   "metadata": {},
   "outputs": [],
   "source": [
    "terms = [df.at[i, 'term'] for i in top_indices]"
   ]
  },
  {
   "cell_type": "code",
   "execution_count": 20,
   "id": "0dbf3084",
   "metadata": {},
   "outputs": [],
   "source": [
    "terms.reverse()"
   ]
  },
  {
   "cell_type": "code",
   "execution_count": 21,
   "id": "76ca1729",
   "metadata": {},
   "outputs": [
    {
     "data": {
      "text/plain": [
       "['Hemorrhage/Bleeding', 'Genital Bleeding', 'Intermenstrual Bleeding']"
      ]
     },
     "execution_count": 21,
     "metadata": {},
     "output_type": "execute_result"
    }
   ],
   "source": [
    "terms"
   ]
  },
  {
   "cell_type": "code",
   "execution_count": 22,
   "id": "9e809d11",
   "metadata": {},
   "outputs": [],
   "source": [
    "disp['IMDRF Code'] = codes\n",
    "disp['IMDRF Term'] = terms\n",
    "disp['Score'] = top_scores_percent_str"
   ]
  },
  {
   "cell_type": "code",
   "execution_count": 23,
   "id": "823ecc31",
   "metadata": {},
   "outputs": [
    {
     "data": {
      "text/html": [
       "<div>\n",
       "<style scoped>\n",
       "    .dataframe tbody tr th:only-of-type {\n",
       "        vertical-align: middle;\n",
       "    }\n",
       "\n",
       "    .dataframe tbody tr th {\n",
       "        vertical-align: top;\n",
       "    }\n",
       "\n",
       "    .dataframe thead th {\n",
       "        text-align: right;\n",
       "    }\n",
       "</style>\n",
       "<table border=\"1\" class=\"dataframe\">\n",
       "  <thead>\n",
       "    <tr style=\"text-align: right;\">\n",
       "      <th></th>\n",
       "      <th>IMDRF Code</th>\n",
       "      <th>IMDRF Term</th>\n",
       "      <th>Score</th>\n",
       "    </tr>\n",
       "  </thead>\n",
       "  <tbody>\n",
       "    <tr>\n",
       "      <th>0</th>\n",
       "      <td>E0506</td>\n",
       "      <td>Hemorrhage/Bleeding</td>\n",
       "      <td>74.84%</td>\n",
       "    </tr>\n",
       "    <tr>\n",
       "      <th>1</th>\n",
       "      <td>E1407</td>\n",
       "      <td>Genital Bleeding</td>\n",
       "      <td>67.36%</td>\n",
       "    </tr>\n",
       "    <tr>\n",
       "      <th>2</th>\n",
       "      <td>E140701</td>\n",
       "      <td>Intermenstrual Bleeding</td>\n",
       "      <td>67.36%</td>\n",
       "    </tr>\n",
       "  </tbody>\n",
       "</table>\n",
       "</div>"
      ],
      "text/plain": [
       "  IMDRF Code               IMDRF Term   Score\n",
       "0      E0506      Hemorrhage/Bleeding  74.84%\n",
       "1      E1407         Genital Bleeding  67.36%\n",
       "2    E140701  Intermenstrual Bleeding  67.36%"
      ]
     },
     "execution_count": 23,
     "metadata": {},
     "output_type": "execute_result"
    }
   ],
   "source": [
    "disp"
   ]
  },
  {
   "cell_type": "code",
   "execution_count": 24,
   "id": "c660a7c3",
   "metadata": {},
   "outputs": [
    {
     "name": "stdout",
     "output_type": "stream",
     "text": [
      "Change in Therapeutic Response\n",
      "Therapeutic Response Decreased\n",
      "Therapeutic Response Increased\n",
      "Unexpected Therapeutic Effects\n",
      "Death\n",
      "Intrauterine Fetal Death\n",
      "Brain Death\n",
      "Delay to Diagnosis\n",
      "Delay to Treatment/ Therapy\n",
      "Disruption of Subsequent Medical Procedure\n",
      "Exacerbation of Existing Condition\n",
      "Hospitalization or Prolonged Hospitalization\n",
      "Intensive Care\n",
      "Fetal Harm\n",
      "Inadequate/Inappropriate Treatment or Diagnostic Exposure\n",
      "Absence of Treatment\n",
      "Incompatible Blood Transfusion\n",
      "Missed Dose\n",
      "Underdose\n",
      "Radiation Underdose\n",
      "Overdose\n",
      "Radiation Overdose\n",
      "Minor Injury/ Illness / Impairment\n",
      "Serious Injury/ Illness/ Impairment\n",
      "Chronic Disease\n",
      "Disability\n",
      "Life Threatening Illness or Injury\n",
      "Permanent Impairment\n",
      "Temporary Impairment\n",
      "Misdiagnosis/ Misclassification\n",
      "Prolonged Episode of Care\n",
      "Recognised Device or Procedural Complication\n",
      "Reduction in Life Expectancy\n",
      "Sedation\n",
      "Rehabilitation\n",
      "Surgical Intervention\n",
      "Additional Surgery\n",
      "Amputation\n",
      "Device Explantation\n",
      "Device Repositioning\n",
      "Device Revision or Replacement\n",
      "Modified Surgical Procedure\n",
      "More Complex Surgery\n",
      "Prolonged surgery\n",
      "Surgical Procedure Delayed\n",
      "Serious Public Health Threat\n",
      "Unexpected Deterioration\n",
      "Unexpected Diagnostic Intervention\n",
      "Biopsy\n",
      "Endoscopic Procedure\n"
     ]
    }
   ],
   "source": [
    "for i in df.term[:50]:\n",
    "    print(i)\n",
    "    "
   ]
  },
  {
   "cell_type": "code",
   "execution_count": 34,
   "id": "d3304b41",
   "metadata": {},
   "outputs": [
    {
     "name": "stdout",
     "output_type": "stream",
     "text": [
      "                  P1234/234 Subject Submission\n",
      "0                     Event     Rate Indicator\n",
      "1  Neurological Dysfunction                47%\n",
      "2               Missed Dose                43%\n",
      "3       Respiratory Failure                37%\n",
      "4        Cardiac Arrhythmia                37%\n"
     ]
    }
   ],
   "source": [
    "import pandas as pd\n",
    "import random\n",
    "\n",
    "# Sample data\n",
    "samp1 = ['Infection', 'Bleeding', 'Hypertension', 'Neurological Dysfunction', 'Respiratory Failure', \n",
    "         'Pericardial Fluid', 'Cardiac Arrhythmia', 'Missed Dose', 'Underdose', 'Sedation']\n",
    "\n",
    "# Create an empty DataFrame\n",
    "df = pd.DataFrame(columns=('P1234/234', 'Subject Submission'))\n",
    "\n",
    "# Populate the DataFrame\n",
    "df.loc[0] = ['Event', 'Rate Indicator']\n",
    "choices = random.sample(samp1, k=4)\n",
    "for i, choice in enumerate(choices, start=1):\n",
    "    df.loc[i] = [choice, f'{random.randint(1, 99)}%']\n",
    "\n",
    "# Sort the Subject Submission column in descending order\n",
    "df['Subject Submission'] = df['Subject Submission'].astype(str)\n",
    "df.sort_values('Subject Submission', ascending=False, inplace=True)\n",
    "\n",
    "# Reset the index\n",
    "df.reset_index(drop=True, inplace=True)\n",
    "\n",
    "# Print the DataFrame\n",
    "print(df)\n",
    "\n"
   ]
  },
  {
   "cell_type": "code",
   "execution_count": 36,
   "id": "2e6e0616",
   "metadata": {},
   "outputs": [
    {
     "name": "stdout",
     "output_type": "stream",
     "text": [
      "First Table:\n",
      "            P1234/234 Subject Submission\n",
      "0               Event     Rate Indicator\n",
      "1  Cardiac Arrhythmia                99%\n",
      "2   Pericardial Fluid                69%\n",
      "3            Sedation                 6%\n",
      "4            Bleeding                36%\n",
      "\n",
      "Second Table:\n",
      "            P1234/234 Subject Submission\n",
      "0               Event     Rate Indicator\n",
      "1            Sedation                96%\n",
      "2   Pericardial Fluid                59%\n",
      "3  Cardiac Arrhythmia                56%\n",
      "4            Bleeding                45%\n"
     ]
    }
   ],
   "source": [
    "import pandas as pd\n",
    "import random\n",
    "\n",
    "# Sample data\n",
    "samp1 = ['Infection', 'Bleeding', 'Hypertension', 'Neurological Dysfunction', 'Respiratory Failure', \n",
    "         'Pericardial Fluid', 'Cardiac Arrhythmia', 'Missed Dose', 'Underdose', 'Sedation']\n",
    "\n",
    "# Create an empty DataFrame for the first table\n",
    "df1 = pd.DataFrame(columns=('P1234/234', 'Subject Submission'))\n",
    "\n",
    "# Create an empty DataFrame for the second table\n",
    "df2 = pd.DataFrame(columns=('P1234/234', 'Subject Submission'))\n",
    "\n",
    "# Randomly choose unique elements from samp1 for both tables\n",
    "choices = random.sample(samp1, k=4)\n",
    "\n",
    "# Populate the first table\n",
    "df1.loc[0] = ['Event', 'Rate Indicator']\n",
    "for i, choice in enumerate(choices, start=1):\n",
    "    df1.loc[i] = [choice, f'{random.randint(1, 99)}%']\n",
    "\n",
    "# Sort the Subject Submission column in descending order for the first table\n",
    "df1['Subject Submission'] = df1['Subject Submission'].astype(str)\n",
    "df1.sort_values('Subject Submission', ascending=False, inplace=True)\n",
    "\n",
    "# Reset the index for the first table\n",
    "df1.reset_index(drop=True, inplace=True)\n",
    "\n",
    "# Print the first table\n",
    "print(\"First Table:\")\n",
    "print(df1)\n",
    "print()\n",
    "\n",
    "# Populate the second table\n",
    "df2.loc[0] = ['Event', 'Rate Indicator']\n",
    "for i, choice in enumerate(choices, start=1):\n",
    "    df2.loc[i] = [choice, f'{random.randint(1, 99)}%']\n",
    "\n",
    "# Sort the Subject Submission column in descending order for the second table\n",
    "df2['Subject Submission'] = df2['Subject Submission'].astype(str)\n",
    "df2.sort_values('Subject Submission', ascending=False, inplace=True)\n",
    "\n",
    "# Reset the index for the second table\n",
    "df2.reset_index(drop=True, inplace=True)\n",
    "\n",
    "# Print the second table\n",
    "print(\"Second Table:\")\n",
    "print(df2)\n"
   ]
  },
  {
   "cell_type": "code",
   "execution_count": null,
   "id": "4a0b7887",
   "metadata": {},
   "outputs": [],
   "source": []
  },
  {
   "cell_type": "code",
   "execution_count": null,
   "id": "631913ca",
   "metadata": {},
   "outputs": [],
   "source": []
  }
 ],
 "metadata": {
  "kernelspec": {
   "display_name": "Python 3 (ipykernel)",
   "language": "python",
   "name": "python3"
  },
  "language_info": {
   "codemirror_mode": {
    "name": "ipython",
    "version": 3
   },
   "file_extension": ".py",
   "mimetype": "text/x-python",
   "name": "python",
   "nbconvert_exporter": "python",
   "pygments_lexer": "ipython3",
   "version": "3.9.13"
  }
 },
 "nbformat": 4,
 "nbformat_minor": 5
}
